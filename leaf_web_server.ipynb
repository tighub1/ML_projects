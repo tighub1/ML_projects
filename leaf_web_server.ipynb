{
 "cells": [
  {
   "cell_type": "markdown",
   "id": "73b240cd",
   "metadata": {},
   "source": [
    "### Leafydex Web Server Module"
   ]
  },
  {
   "cell_type": "code",
   "execution_count": 1,
   "id": "7c0a8146",
   "metadata": {},
   "outputs": [],
   "source": [
    "import os\n",
    "import pathlib\n",
    "import random\n",
    "\n",
    "import cv2\n",
    "import matplotlib.image as img\n",
    "import matplotlib.pyplot as plt\n",
    "import numpy as np\n",
    "import pandas as pd\n",
    "import tensorflow as tf\n",
    "from keras import layers, metrics, models\n",
    "from PIL import Image\n",
    "from sklearn import utils\n",
    "from tensorflow import keras\n",
    "from tensorflow.keras.preprocessing.image import (ImageDataGenerator,\n",
    "                                                  array_to_img, img_to_array,\n",
    "                                                  load_img)\n",
    "\n",
    "import flask\n",
    "import werkzeug\n",
    "import json\n",
    "\n",
    "%matplotlib inline"
   ]
  },
  {
   "cell_type": "code",
   "execution_count": 2,
   "id": "95e4fc9d",
   "metadata": {},
   "outputs": [],
   "source": [
    "__file__: str = os.path.abspath('D:\\\\MIDS\\\\W207\\\\Project')\n",
    "    \n",
    "#ROOT_DIR_PATH: str = os.path.join(pathlib.Path(__file__).parent.parent)\n",
    "ROOT_DIR_PATH: str = os.path.join(pathlib.Path(__file__))\n",
    "MODEL_DIR_PATH: str = os.path.join(ROOT_DIR_PATH,\"model\")\n",
    "\n",
    "model_name = \"my_model\""
   ]
  },
  {
   "cell_type": "code",
   "execution_count": 3,
   "id": "39c5b88f",
   "metadata": {},
   "outputs": [],
   "source": [
    "# Load Saved Model\n",
    "model = tf.keras.models.load_model (MODEL_DIR_PATH + \"\\\\\" + model_name)"
   ]
  },
  {
   "cell_type": "code",
   "execution_count": 4,
   "id": "0e6648a6",
   "metadata": {},
   "outputs": [
    {
     "name": "stdout",
     "output_type": "stream",
     "text": [
      "Model: \"sequential\"\n",
      "_________________________________________________________________\n",
      " Layer (type)                Output Shape              Param #   \n",
      "=================================================================\n",
      " conv_1 (Conv2D)             (None, 128, 128, 32)      2432      \n",
      "                                                                 \n",
      " pool_1 (MaxPooling2D)       (None, 64, 64, 32)        0         \n",
      "                                                                 \n",
      " conv_2 (Conv2D)             (None, 32, 32, 64)        51264     \n",
      "                                                                 \n",
      " pool_2 (MaxPooling2D)       (None, 16, 16, 64)        0         \n",
      "                                                                 \n",
      " dropout (Dropout)           (None, 16, 16, 64)        0         \n",
      "                                                                 \n",
      " conv_3 (Conv2D)             (None, 8, 8, 128)         204928    \n",
      "                                                                 \n",
      " pool_3 (MaxPooling2D)       (None, 4, 4, 128)         0         \n",
      "                                                                 \n",
      " flatten (Flatten)           (None, 2048)              0         \n",
      "                                                                 \n",
      " fc_1 (Dense)                (None, 1024)              2098176   \n",
      "                                                                 \n",
      " dropout_1 (Dropout)         (None, 1024)              0         \n",
      "                                                                 \n",
      " fc_2 (Dense)                (None, 1)                 1025      \n",
      "                                                                 \n",
      "=================================================================\n",
      "Total params: 2,357,825\n",
      "Trainable params: 2,357,825\n",
      "Non-trainable params: 0\n",
      "_________________________________________________________________\n"
     ]
    }
   ],
   "source": [
    "# unit test\n",
    "model.summary()"
   ]
  },
  {
   "cell_type": "code",
   "execution_count": 5,
   "id": "d861f81c",
   "metadata": {},
   "outputs": [],
   "source": [
    "#json_model = model.to_json()\n",
    "#print(json_model)"
   ]
  },
  {
   "cell_type": "markdown",
   "id": "d9995d57",
   "metadata": {},
   "source": [
    "### Create API endpoints and server loop"
   ]
  },
  {
   "cell_type": "code",
   "execution_count": 6,
   "id": "47f1311d",
   "metadata": {},
   "outputs": [],
   "source": [
    "app = flask.Flask(__name__,\n",
    "                  static_url_path=\"\")\n",
    "\n",
    "@app.route(\"/\")\n",
    "def landing_page():\n",
    "    return 'Leafydex: We beleaf in your disease'\n",
    "\n",
    "@app.route(\"/summary\")\n",
    "def summary():\n",
    "    return (str(json_model))\n",
    "\n",
    "@app.route(\"/evaluate\")\n",
    "def evaluate_model():\n",
    "    # Do Something\n",
    "    #s = model.summary()\n",
    "    file_name = flask.request.args.get('name')\n",
    "    file_label = flask.request.args.get('label')\n",
    "    #acc = model.evaluate(file_name, file_label, verbose=2)\n",
    "        \n",
    "    return(\"Image name: \" + str(file_name) + \" is \" + str(file_label) + \" and model says ...\")\n"
   ]
  },
  {
   "cell_type": "code",
   "execution_count": null,
   "id": "722d551f",
   "metadata": {},
   "outputs": [
    {
     "name": "stderr",
     "output_type": "stream",
     "text": [
      " * Running on all addresses.\n",
      "   WARNING: This is a development server. Do not use it in a production deployment.\n",
      " * Running on http://192.168.0.126:8080/ (Press CTRL+C to quit)\n",
      "192.168.0.126 - - [08/Dec/2022 01:50:34] \"GET /evaluate?name=leaf_img.jpg?label=healthy HTTP/1.1\" 200 -\n",
      "192.168.0.126 - - [08/Dec/2022 01:52:00] \"GET /evaluate?name=leaf_img.jpg&label=healthy HTTP/1.1\" 200 -\n",
      "192.168.0.126 - - [08/Dec/2022 01:52:22] \"GET /evaluate?name=leaf_img.jpg&label=diseased HTTP/1.1\" 200 -\n"
     ]
    }
   ],
   "source": [
    "werkzeug.serving.run_simple(hostname=\"0.0.0.0\", \n",
    "                            port=8080, \n",
    "                            application=app,\n",
    "                            use_debugger=True)"
   ]
  },
  {
   "cell_type": "code",
   "execution_count": null,
   "id": "4c776d81",
   "metadata": {},
   "outputs": [],
   "source": []
  }
 ],
 "metadata": {
  "kernelspec": {
   "display_name": "Python 3 (ipykernel)",
   "language": "python",
   "name": "python3"
  },
  "language_info": {
   "codemirror_mode": {
    "name": "ipython",
    "version": 3
   },
   "file_extension": ".py",
   "mimetype": "text/x-python",
   "name": "python",
   "nbconvert_exporter": "python",
   "pygments_lexer": "ipython3",
   "version": "3.9.12"
  }
 },
 "nbformat": 4,
 "nbformat_minor": 5
}
